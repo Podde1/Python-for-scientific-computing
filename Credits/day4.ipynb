{
 "cells": [
  {
   "cell_type": "markdown",
   "metadata": {},
   "source": [
    "#### Here, we use the git api to clone down a public github repo containing a simple calcuilator and set ut up using the __init__.py file in the cloned folder"
   ]
  },
  {
   "cell_type": "code",
   "execution_count": null,
   "metadata": {},
   "outputs": [],
   "source": [
    "%pip install GitPython"
   ]
  },
  {
   "cell_type": "code",
   "execution_count": null,
   "metadata": {},
   "outputs": [],
   "source": [
    "from git.repo.base import Repo\n",
    "\n",
    "Repo.clone_from(\"https://github.com/Podde1/Python-for-scientific-computing-day4.git\", \"Calculator/\")"
   ]
  },
  {
   "cell_type": "code",
   "execution_count": null,
   "metadata": {},
   "outputs": [],
   "source": [
    "from Calculator.calculator import mult, div, pow"
   ]
  },
  {
   "cell_type": "code",
   "execution_count": null,
   "metadata": {},
   "outputs": [],
   "source": [
    "print(mult(5,4))\n",
    "print(div(5,4))\n",
    "print(pow(5,4))"
   ]
  }
 ],
 "metadata": {
  "kernelspec": {
   "display_name": "Python 3.9.13 ('venv': venv)",
   "language": "python",
   "name": "python3"
  },
  "language_info": {
   "codemirror_mode": {
    "name": "ipython",
    "version": 3
   },
   "file_extension": ".py",
   "mimetype": "text/x-python",
   "name": "python",
   "nbconvert_exporter": "python",
   "pygments_lexer": "ipython3",
   "version": "3.9.13"
  },
  "orig_nbformat": 4,
  "vscode": {
   "interpreter": {
    "hash": "3715fe3a9144c087db19751d5a5b6fbc8249bf5f331f529ae5af8b159970a122"
   }
  }
 },
 "nbformat": 4,
 "nbformat_minor": 2
}
