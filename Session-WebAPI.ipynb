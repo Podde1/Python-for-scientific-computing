{
 "cells": [
  {
   "cell_type": "markdown",
   "id": "0bb34942-1b3d-490b-8c50-45cb6b1a28d0",
   "metadata": {},
   "source": [
    "## Requests"
   ]
  },
  {
   "cell_type": "code",
   "execution_count": 1,
   "id": "da10d355-02a1-4f9a-9e08-ac5192b441da",
   "metadata": {},
   "outputs": [
    {
     "data": {
      "text/html": [
       "\n",
       "        <iframe\n",
       "            width=\"100%\"\n",
       "            height=\"30%\"\n",
       "            src=\"https://requests.readthedocs.io/en/latest/\"\n",
       "            frameborder=\"0\"\n",
       "            allowfullscreen\n",
       "            \n",
       "        ></iframe>\n",
       "        "
      ],
      "text/plain": [
       "<IPython.lib.display.IFrame at 0x1e1a68b7be0>"
      ]
     },
     "execution_count": 1,
     "metadata": {},
     "output_type": "execute_result"
    }
   ],
   "source": [
    "# Embed the requests homepage\n",
    "from IPython.display import IFrame\n",
    "requests_documentation_url = \"https://requests.readthedocs.io/en/latest/\"\n",
    "IFrame(requests_documentation_url, '100%', '30%')"
   ]
  },
  {
   "cell_type": "code",
   "execution_count": 2,
   "id": "43aa0d87-708c-4c98-999e-9338bb1cb5f6",
   "metadata": {},
   "outputs": [],
   "source": [
    "# Import\n",
    "import requests\n",
    "\n",
    "# URL\n",
    "url = 'https://catfact.ninja/fact'\n",
    "\n",
    "# Make a request\n",
    "response = requests.get(url)"
   ]
  },
  {
   "cell_type": "code",
   "execution_count": 3,
   "id": "b7f5fa46-4fd7-4b7e-bda3-a98a86d66236",
   "metadata": {},
   "outputs": [
    {
     "data": {
      "text/plain": [
       "b'{\"fact\":\"A cat\\'s cerebral cortex contains about twice as many neurons as that of dogs. Cats have 300 million neurons, whereas dogs have about 160 million. See, cats rule, dogs drool!\",\"length\":173}'"
      ]
     },
     "metadata": {},
     "output_type": "display_data"
    }
   ],
   "source": [
    "response_content = response.content\n",
    "\n",
    "# Display\n",
    "display(response_content)"
   ]
  },
  {
   "cell_type": "code",
   "execution_count": 4,
   "id": "c1f6739f-4339-4381-b92d-df03e8ad13dd",
   "metadata": {},
   "outputs": [
    {
     "data": {
      "text/plain": [
       "{'fact': \"A cat's cerebral cortex contains about twice as many neurons as that of dogs. Cats have 300 million neurons, whereas dogs have about 160 million. See, cats rule, dogs drool!\",\n",
       " 'length': 173}"
      ]
     },
     "metadata": {},
     "output_type": "display_data"
    }
   ],
   "source": [
    "response_json = response.json()\n",
    "\n",
    "# Display\n",
    "display(response_json)"
   ]
  },
  {
   "cell_type": "markdown",
   "id": "b54f71d7-78cb-416a-9fc2-3268bb80bf2f",
   "metadata": {},
   "source": [
    "## API which requires parameters"
   ]
  },
  {
   "cell_type": "code",
   "execution_count": 5,
   "id": "a245450f-990b-40da-9fac-2a4a779cfc99",
   "metadata": {},
   "outputs": [
    {
     "data": {
      "text/plain": [
       "[{'country': 'Finland',\n",
       "  'domains': ['abo.fi'],\n",
       "  'web_pages': ['http://www.abo.fi/'],\n",
       "  'alpha_two_code': 'FI',\n",
       "  'name': 'Abo Akademi University',\n",
       "  'state-province': None},\n",
       " {'country': 'Finland',\n",
       "  'domains': ['cou.fi'],\n",
       "  'web_pages': ['http://www.cou.fi/'],\n",
       "  'alpha_two_code': 'FI',\n",
       "  'name': 'Central Ostrobothnia University of Applied Sciences',\n",
       "  'state-province': None}]"
      ]
     },
     "metadata": {},
     "output_type": "display_data"
    }
   ],
   "source": [
    "# URL\n",
    "url = 'http://universities.hipolabs.com/search?country=Finland'\n",
    "\n",
    "# Make a request\n",
    "response = requests.get(url)\n",
    "\n",
    "# Decode JSON\n",
    "response_json = response.json()\n",
    "\n",
    "# Display\n",
    "display(response_json[:2])"
   ]
  },
  {
   "cell_type": "code",
   "execution_count": 6,
   "id": "31f3cd73-f97a-4488-9248-fb13c416ea1e",
   "metadata": {},
   "outputs": [
    {
     "data": {
      "text/plain": [
       "[{'country': 'Finland',\n",
       "  'domains': ['abo.fi'],\n",
       "  'web_pages': ['http://www.abo.fi/'],\n",
       "  'alpha_two_code': 'FI',\n",
       "  'name': 'Abo Akademi University',\n",
       "  'state-province': None},\n",
       " {'country': 'Finland',\n",
       "  'domains': ['cou.fi'],\n",
       "  'web_pages': ['http://www.cou.fi/'],\n",
       "  'alpha_two_code': 'FI',\n",
       "  'name': 'Central Ostrobothnia University of Applied Sciences',\n",
       "  'state-province': None}]"
      ]
     },
     "metadata": {},
     "output_type": "display_data"
    }
   ],
   "source": [
    "# URL\n",
    "url = 'http://universities.hipolabs.com/search'\n",
    "\n",
    "# Make the parameter dictionary\n",
    "parameters = {'country' : 'Finland'}\n",
    "\n",
    "# Get response\n",
    "response = requests.get(url, params=parameters)\n",
    "\n",
    "# Decode JSON\n",
    "response_json = response.json()\n",
    "\n",
    "# Display\n",
    "display(response_json[:2])"
   ]
  },
  {
   "cell_type": "markdown",
   "id": "42ded407-fb67-44cf-8ae0-836ed2966643",
   "metadata": {},
   "source": [
    "## Exercise 1"
   ]
  },
  {
   "cell_type": "code",
   "execution_count": 1,
   "id": "ea1042cf-5fa7-4cf3-bd38-5d70537a4a81",
   "metadata": {},
   "outputs": [],
   "source": [
    "# Import module\n",
    "import requests\n",
    "\n",
    "# URL of the activity API end point\n",
    "url = \"http://www.boredapi.com/api/activity/\"\n",
    "\n",
    "# Send the request using the get() function\n",
    "response = requests.get(url)"
   ]
  },
  {
   "cell_type": "code",
   "execution_count": 2,
   "id": "8c214fc2-d46c-4c50-9574-218bee96009c",
   "metadata": {},
   "outputs": [
    {
     "data": {
      "text/plain": [
       "{'activity': 'Take a caffeine nap',\n",
       " 'type': 'relaxation',\n",
       " 'participants': 1,\n",
       " 'price': 0.1,\n",
       " 'link': '',\n",
       " 'key': '5092652',\n",
       " 'accessibility': 0.08}"
      ]
     },
     "metadata": {},
     "output_type": "display_data"
    }
   ],
   "source": [
    "# Show the JSON content of the response\n",
    "display(response.json())"
   ]
  },
  {
   "cell_type": "code",
   "execution_count": 3,
   "id": "369abe32-7da7-4940-b54a-b56293fb328c",
   "metadata": {},
   "outputs": [],
   "source": [
    "# Define some parameters\n",
    "params = {\n",
    "    'type' : 'education',\n",
    "    'participants' : 1,\n",
    "}\n",
    "\n",
    "# Send the request using get() with parameters\n",
    "response = requests.get(url, params)"
   ]
  },
  {
   "cell_type": "code",
   "execution_count": 4,
   "id": "e6d49e46-97f4-4afb-aded-f12414a462a8",
   "metadata": {},
   "outputs": [
    {
     "data": {
      "text/plain": [
       "'Response'"
      ]
     },
     "metadata": {},
     "output_type": "display_data"
    },
    {
     "data": {
      "text/plain": [
       "{'activity': \"Research a topic you're interested in\",\n",
       " 'type': 'education',\n",
       " 'participants': 1,\n",
       " 'price': 0,\n",
       " 'link': '',\n",
       " 'key': '3561421',\n",
       " 'accessibility': 0.9}"
      ]
     },
     "metadata": {},
     "output_type": "display_data"
    }
   ],
   "source": [
    "# Show the JSON content of the response\n",
    "display(\"Response\")\n",
    "display(response.json())"
   ]
  },
  {
   "cell_type": "code",
   "execution_count": 5,
   "id": "b03e0754-c671-46f5-8fea-00710e6b6c0f",
   "metadata": {},
   "outputs": [],
   "source": [
    "# Define some parameters\n",
    "params = {\n",
    "    'type' : 'social',\n",
    "    'participants' : 2,\n",
    "    'minprice' : 0,\n",
    "    'maxprice' : 1000,\n",
    "}\n",
    "\n",
    "# Send the request using get() with parameters\n",
    "response = requests.get(url, params)"
   ]
  },
  {
   "cell_type": "code",
   "execution_count": 6,
   "id": "dcf6821b-5d8b-414d-b0ca-7b5bd0fddbd2",
   "metadata": {},
   "outputs": [
    {
     "data": {
      "text/plain": [
       "{'activity': \"Text a friend you haven't talked to in a long time\",\n",
       " 'type': 'social',\n",
       " 'participants': 2,\n",
       " 'price': 0.05,\n",
       " 'link': '',\n",
       " 'key': '6081071',\n",
       " 'accessibility': 0.2}"
      ]
     },
     "metadata": {},
     "output_type": "display_data"
    },
    {
     "data": {
      "text/plain": [
       "''"
      ]
     },
     "metadata": {},
     "output_type": "display_data"
    }
   ],
   "source": [
    "# Show the JSON content of the response\n",
    "display(response.json())\n",
    "display(\"\")"
   ]
  },
  {
   "cell_type": "markdown",
   "id": "1e751d3e-9f13-40fb-95e4-e655be03ed7f",
   "metadata": {},
   "source": [
    "## Exercise 2"
   ]
  },
  {
   "cell_type": "code",
   "execution_count": 8,
   "id": "1e59f6ca-cb50-41cb-9c6a-e98b66cba97d",
   "metadata": {},
   "outputs": [],
   "source": [
    "# Import modules\n",
    "import requests\n",
    "\n",
    "# URL of the activity API end point\n",
    "url = \"http://www.boredapi.com/api/activity/\"\n",
    "\n",
    "# Make the request using the get() function\n",
    "response = requests.get(url)"
   ]
  },
  {
   "cell_type": "code",
   "execution_count": 9,
   "id": "46b0adcb-0f53-47b0-a828-921ac2887300",
   "metadata": {},
   "outputs": [
    {
     "data": {
      "text/plain": [
       "'Request headers'"
      ]
     },
     "metadata": {},
     "output_type": "display_data"
    },
    {
     "data": {
      "text/plain": [
       "{'User-Agent': 'python-requests/2.28.1',\n",
       " 'Accept-Encoding': 'gzip, deflate',\n",
       " 'Accept': '*/*',\n",
       " 'Connection': 'keep-alive'}"
      ]
     },
     "metadata": {},
     "output_type": "display_data"
    }
   ],
   "source": [
    "display(\"Request headers\")\n",
    "display(dict(response.request.headers))"
   ]
  },
  {
   "cell_type": "code",
   "execution_count": 10,
   "id": "0e0fe320-7102-4357-94bf-f1f741743ec9",
   "metadata": {},
   "outputs": [
    {
     "data": {
      "text/plain": [
       "'Response headers'"
      ]
     },
     "metadata": {},
     "output_type": "display_data"
    },
    {
     "data": {
      "text/plain": [
       "{'Server': 'Cowboy',\n",
       " 'Connection': 'keep-alive',\n",
       " 'X-Powered-By': 'Express',\n",
       " 'Access-Control-Allow-Origin': '*',\n",
       " 'Access-Control-Allow-Headers': 'Origin, X-Requested-With, Content-Type, Accept',\n",
       " 'Content-Type': 'application/json; charset=utf-8',\n",
       " 'Content-Length': '128',\n",
       " 'Etag': 'W/\"80-5bUQ0QKp2O72cxy7Bl5XTVBYaos\"',\n",
       " 'Date': 'Thu, 24 Nov 2022 09:47:49 GMT',\n",
       " 'Via': '1.1 vegur'}"
      ]
     },
     "metadata": {},
     "output_type": "display_data"
    }
   ],
   "source": [
    "display(\"Response headers\")\n",
    "display(dict(response.headers))"
   ]
  },
  {
   "cell_type": "markdown",
   "id": "961a190f-2e13-438a-87f2-bf201ba4082c",
   "metadata": {},
   "source": [
    "## Exercise 3"
   ]
  },
  {
   "cell_type": "code",
   "execution_count": 12,
   "id": "afffe412-cc66-4add-82b9-8a0cb40bb2f8",
   "metadata": {},
   "outputs": [
    {
     "data": {
      "text/plain": [
       "b'<!doctype html>\\n<html>\\n<head>\\n    <title>Example Domain</title>\\n\\n    <meta charset=\"utf-8\" />\\n    <meta http-equiv=\"Content-type\" content=\"text/html; charset=utf-8\" />\\n    <meta name=\"viewport\" content=\"width=device-width, initial-scale=1\" />\\n    <style type=\"text/css\">\\n    body {\\n        background-color: #f0f0f2;\\n        margin: 0;\\n        padding: 0;\\n        font-family: -apple-system, system-ui, BlinkMacSystemFont, \"Segoe UI\", \"Open Sans\", \"Helvetica Neue\", Helvetica, Arial, sans-serif;\\n        \\n    }\\n    div {\\n        width: 600px;\\n        margin: 5em auto;\\n        padding: 2em;\\n        background-color: #fdfdff;\\n        border-radius: 0.5em;\\n        box-shadow: 2px 3px 7px 2px rgba(0,0,0,0.02);\\n    }\\n    a:link, a:visited {\\n        color: #38488f;\\n        text-decoration: none;\\n    }\\n    @media (max-width: 700px) {\\n        div {\\n            margin: 0 auto;\\n            width: auto;\\n        }\\n    }\\n    </style>    \\n</head>\\n\\n<body>\\n<div>\\n    <h1>Example Domain</h1>\\n    <p>This domain is for use in illustrative examples in documents. You may use this\\n    domain in literature without prior coordination or asking for permission.</p>\\n    <p><a href=\"https://www.iana.org/domains/example\">More information...</a></p>\\n</div>\\n</body>\\n</html>\\n'"
      ]
     },
     "metadata": {},
     "output_type": "display_data"
    }
   ],
   "source": [
    "# Import module\n",
    "import requests\n",
    "\n",
    "# Define webpage to scrape\n",
    "url = \"http://www.example.com/\"\n",
    "\n",
    "# Make a request for the URL\n",
    "response = requests.get(url)\n",
    "\n",
    "# Examine the response\n",
    "display(response.content)"
   ]
  },
  {
   "cell_type": "code",
   "execution_count": 13,
   "id": "30b0f557-9447-485d-a18c-de290d720212",
   "metadata": {},
   "outputs": [
    {
     "name": "stdout",
     "output_type": "stream",
     "text": [
      "<!doctype html>\n",
      "<html>\n",
      "<head>\n",
      "    <title>Example Domain</title>\n",
      "\n",
      "    <meta charset=\"utf-8\" />\n",
      "    <meta http-equiv=\"Content-type\" content=\"text/html; charset=utf-8\" />\n",
      "    <meta name=\"viewport\" content=\"width=device-width, initial-scale=1\" />\n",
      "    <style type=\"text/css\">\n",
      "    body {\n",
      "        background-color: #f0f0f2;\n",
      "        margin: 0;\n",
      "        padding: 0;\n",
      "        font-family: -apple-system, system-ui, BlinkMacSystemFont, \"Segoe UI\", \"Open Sans\", \"Helvetica Neue\", Helvetica, Arial, sans-serif;\n",
      "        \n",
      "    }\n",
      "    div {\n",
      "        width: 600px;\n",
      "        margin: 5em auto;\n",
      "        padding: 2em;\n",
      "        background-color: #fdfdff;\n",
      "        border-radius: 0.5em;\n",
      "        box-shadow: 2px 3px 7px 2px rgba(0,0,0,0.02);\n",
      "    }\n",
      "    a:link, a:visited {\n",
      "        color: #38488f;\n",
      "        text-decoration: none;\n",
      "    }\n",
      "    @media (max-width: 700px) {\n",
      "        div {\n",
      "            margin: 0 auto;\n",
      "            width: auto;\n",
      "        }\n",
      "    }\n",
      "    </style>    \n",
      "</head>\n",
      "\n",
      "<body>\n",
      "<div>\n",
      "    <h1>Example Domain</h1>\n",
      "    <p>This domain is for use in illustrative examples in documents. You may use this\n",
      "    domain in literature without prior coordination or asking for permission.</p>\n",
      "    <p><a href=\"https://www.iana.org/domains/example\">More information...</a></p>\n",
      "</div>\n",
      "</body>\n",
      "</html>\n",
      "\n"
     ]
    }
   ],
   "source": [
    "# Looks like HTML :) Let's access it using the text attribute\n",
    "html = response.text\n",
    "\n",
    "print(html)"
   ]
  },
  {
   "cell_type": "code",
   "execution_count": 14,
   "id": "10d26ab5-cc73-4188-a46c-2e701cfe9732",
   "metadata": {},
   "outputs": [],
   "source": [
    "# Import beautiful soup module\n",
    "from bs4 import BeautifulSoup\n",
    "\n",
    "# Create soup\n",
    "soup = BeautifulSoup(html, 'html.parser')"
   ]
  },
  {
   "cell_type": "code",
   "execution_count": 15,
   "id": "5a2b09a5-b557-4657-93f8-ece3528876b9",
   "metadata": {},
   "outputs": [
    {
     "name": "stdout",
     "output_type": "stream",
     "text": [
      "Found title: Example Domain\n"
     ]
    }
   ],
   "source": [
    "# Extract page title from the HTML\n",
    "print(f\"Found title: {soup.title.text}\")"
   ]
  },
  {
   "cell_type": "code",
   "execution_count": 16,
   "id": "fc9100f1-af5a-4a1e-a747-23e6afe79083",
   "metadata": {},
   "outputs": [
    {
     "name": "stdout",
     "output_type": "stream",
     "text": [
      "Found link: https://www.iana.org/domains/example\n"
     ]
    }
   ],
   "source": [
    "# Extract links (hrefs) from the HTML\n",
    "for link in soup.find_all('a'):\n",
    "    print(f\"Found link: {link.get('href')}\")"
   ]
  },
  {
   "cell_type": "code",
   "execution_count": 17,
   "id": "8e42dd31-801b-42f9-8ed4-ba00506a5f58",
   "metadata": {},
   "outputs": [
    {
     "name": "stdout",
     "output_type": "stream",
     "text": [
      "Found text: \n",
      "\n",
      "\n",
      "Example Domain\n",
      "\n",
      "\n",
      "\n",
      "\n",
      "\n",
      "\n",
      "\n",
      "Example Domain\n",
      "This domain is for use in illustrative examples in documents. You may use this\n",
      "    domain in literature without prior coordination or asking for permission.\n",
      "More information...\n",
      "\n",
      "\n",
      "\n",
      "\n"
     ]
    }
   ],
   "source": [
    "# Extract all text from the HTML\n",
    "print(f\"Found text: {soup.get_text()}\")    "
   ]
  },
  {
   "cell_type": "markdown",
   "id": "34e6d2d2-ba55-4a20-a1c5-8bba4b2259e0",
   "metadata": {},
   "source": [
    "## After exercises: Saving retrieved data to disk"
   ]
  },
  {
   "cell_type": "code",
   "execution_count": 20,
   "id": "17ee5eb5-e19f-4623-912a-d408a2170ea1",
   "metadata": {},
   "outputs": [
    {
     "name": "stdout",
     "output_type": "stream",
     "text": [
      "Make request 0\n",
      "Make request 1\n",
      "Make request 2\n"
     ]
    }
   ],
   "source": [
    "# Import\n",
    "import requests\n",
    "import jsonlines\n",
    "import time\n",
    "\n",
    "# URL\n",
    "url = 'https://catfact.ninja/fact'\n",
    "\n",
    "# Make three requests in loop and make a list of response JSON objects\n",
    "for i in range(3):\n",
    "\n",
    "    # Logging\n",
    "    print(f\"Make request {i}\")\n",
    "\n",
    "    # Make a request\n",
    "    response = requests.get(url)\n",
    "    \n",
    "    # Decode to JSON\n",
    "    response_json = response.json()\n",
    "                \n",
    "    # Open a jsonlines writer in 'append' mode \n",
    "    with jsonlines.open('catfacts.jsonl', mode='a') as writer:\n",
    "\n",
    "        # Write\n",
    "        writer.write(response_json)\n",
    "        \n",
    "    # Sleep for one second between requests\n",
    "    time.sleep(1)"
   ]
  },
  {
   "cell_type": "code",
   "execution_count": 21,
   "id": "bb77dea4-76b4-43ab-9465-7b53ff4f9e80",
   "metadata": {},
   "outputs": [
    {
     "data": {
      "text/plain": [
       "{'fact': \"A cat's nose is as unique as a human's fingerprint.\", 'length': 51}"
      ]
     },
     "metadata": {},
     "output_type": "display_data"
    },
    {
     "data": {
      "text/plain": [
       "{'fact': \"A cat's jaw has only up and down motion; it does not have any lateral, side to side motion, like dogs and humans.\",\n",
       " 'length': 113}"
      ]
     },
     "metadata": {},
     "output_type": "display_data"
    },
    {
     "data": {
      "text/plain": [
       "{'fact': 'In just seven years, a single pair of cats and their offspring could produce a staggering total of 420,000 kittens.',\n",
       " 'length': 115}"
      ]
     },
     "metadata": {},
     "output_type": "display_data"
    }
   ],
   "source": [
    "# Open a jsonlines reader\n",
    "with jsonlines.open('catfacts.jsonl', mode='r') as reader:\n",
    "    \n",
    "    # Read and display\n",
    "    for obj in reader:\n",
    "        display(obj)"
   ]
  }
 ],
 "metadata": {
  "kernelspec": {
   "display_name": "Python 3.9.13 ('venv': venv)",
   "language": "python",
   "name": "python3"
  },
  "language_info": {
   "codemirror_mode": {
    "name": "ipython",
    "version": 3
   },
   "file_extension": ".py",
   "mimetype": "text/x-python",
   "name": "python",
   "nbconvert_exporter": "python",
   "pygments_lexer": "ipython3",
   "version": "3.9.13"
  },
  "vscode": {
   "interpreter": {
    "hash": "3715fe3a9144c087db19751d5a5b6fbc8249bf5f331f529ae5af8b159970a122"
   }
  }
 },
 "nbformat": 4,
 "nbformat_minor": 5
}
