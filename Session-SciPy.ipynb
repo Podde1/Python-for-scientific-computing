{
 "cells": [
  {
   "cell_type": "markdown",
   "id": "03c04aff-5224-42e7-aab7-e54cff5531d8",
   "metadata": {},
   "source": [
    "## Exercise 1: Numerical integration"
   ]
  },
  {
   "cell_type": "code",
   "execution_count": 1,
   "id": "c880f0d8-7285-4e13-8f55-53a8304ee24a",
   "metadata": {},
   "outputs": [],
   "source": [
    "from scipy import integrate"
   ]
  },
  {
   "cell_type": "code",
   "execution_count": 2,
   "id": "a44dc7ec-343f-4e2c-a93f-3a74f75595b3",
   "metadata": {},
   "outputs": [],
   "source": [
    "def func(x):\n",
    "    return x**2 + 5"
   ]
  },
  {
   "cell_type": "code",
   "execution_count": 3,
   "id": "5180ef32-ab68-4d5d-b845-f63661462499",
   "metadata": {},
   "outputs": [
    {
     "name": "stdout",
     "output_type": "stream",
     "text": [
      "(41.33333333333333, 4.588921835117313e-13)\n"
     ]
    }
   ],
   "source": [
    "integral = integrate.quad(func, 0.0, 4.0)\n",
    "print(integral)"
   ]
  },
  {
   "cell_type": "code",
   "execution_count": 5,
   "id": "4b10d14a-17fb-49c0-b359-7851136f2f5c",
   "metadata": {},
   "outputs": [
    {
     "data": {
      "text/plain": [
       "41.33333333333333"
      ]
     },
     "execution_count": 5,
     "metadata": {},
     "output_type": "execute_result"
    }
   ],
   "source": [
    "(4**3)/3 + 5*4"
   ]
  },
  {
   "cell_type": "markdown",
   "id": "35d19d4a-3037-4cf1-af6a-a18ecbbe6384",
   "metadata": {},
   "source": [
    "## Exercise 2: Sparse matrices"
   ]
  },
  {
   "cell_type": "code",
   "execution_count": 6,
   "id": "e31cf1d9-a4f7-4248-b1c5-e54203b035ec",
   "metadata": {},
   "outputs": [],
   "source": [
    "import numpy\n",
    "import scipy.sparse"
   ]
  },
  {
   "cell_type": "code",
   "execution_count": null,
   "id": "4e6be544-8a42-4d13-8968-7d4b4811c96a",
   "metadata": {},
   "outputs": [],
   "source": []
  }
 ],
 "metadata": {
  "kernelspec": {
   "display_name": "Python 3 (ipykernel)",
   "language": "python",
   "name": "python3"
  },
  "language_info": {
   "codemirror_mode": {
    "name": "ipython",
    "version": 3
   },
   "file_extension": ".py",
   "mimetype": "text/x-python",
   "name": "python",
   "nbconvert_exporter": "python",
   "pygments_lexer": "ipython3",
   "version": "3.9.13"
  }
 },
 "nbformat": 4,
 "nbformat_minor": 5
}
