{
 "cells": [
  {
   "cell_type": "markdown",
   "metadata": {},
   "source": [
    "## Exploration of web API"
   ]
  },
  {
   "cell_type": "markdown",
   "metadata": {},
   "source": [
    "#### The API tool is usefull and can be utilized in different ways to access information. For instance, BioPython and NCBI Blast function allows for requesting information of protein, dna, mrna etc. sequenace data and pull the information directly into your script. In this simple exmaple below, I use the output of a request as an input to a second web API."
   ]
  },
  {
   "cell_type": "code",
   "execution_count": 1,
   "metadata": {},
   "outputs": [],
   "source": [
    "# %pip install requests"
   ]
  },
  {
   "cell_type": "code",
   "execution_count": 2,
   "metadata": {},
   "outputs": [],
   "source": [
    "# Import a random user\n",
    "import requests\n",
    "\n",
    "# URL\n",
    "url = 'https://randomuser.me/api/'\n",
    "\n",
    "# Make a request\n",
    "response = requests.get(url)"
   ]
  },
  {
   "cell_type": "code",
   "execution_count": 3,
   "metadata": {},
   "outputs": [
    {
     "data": {
      "text/plain": [
       "{'results': [{'gender': 'female',\n",
       "   'name': {'title': 'Mrs', 'first': 'Barb', 'last': 'Elliott'},\n",
       "   'location': {'street': {'number': 3754, 'name': 'Park Lane'},\n",
       "    'city': 'Blessington',\n",
       "    'state': 'Kildare',\n",
       "    'country': 'Ireland',\n",
       "    'postcode': 10141,\n",
       "    'coordinates': {'latitude': '1.5364', 'longitude': '73.8021'},\n",
       "    'timezone': {'offset': '-7:00',\n",
       "     'description': 'Mountain Time (US & Canada)'}},\n",
       "   'email': 'barb.elliott@example.com',\n",
       "   'login': {'uuid': '23526926-0e3e-4408-96d1-9e40d7c92708',\n",
       "    'username': 'bigmouse894',\n",
       "    'password': 'spurs',\n",
       "    'salt': '5o4sdI1z',\n",
       "    'md5': '1c03ddd212548e01b524443c501d99af',\n",
       "    'sha1': '5f9b643e1355ee60be3f2f79db04a8f89963d6ce',\n",
       "    'sha256': 'b25549bb76f6fd24c19d95d36ef15f00924d3cf67193de0bb21dd1187bacd19d'},\n",
       "   'dob': {'date': '1961-04-06T09:39:31.331Z', 'age': 61},\n",
       "   'registered': {'date': '2003-04-14T22:44:15.214Z', 'age': 19},\n",
       "   'phone': '041-861-4054',\n",
       "   'cell': '081-853-4615',\n",
       "   'id': {'name': 'PPS', 'value': '7757164T'},\n",
       "   'picture': {'large': 'https://randomuser.me/api/portraits/women/79.jpg',\n",
       "    'medium': 'https://randomuser.me/api/portraits/med/women/79.jpg',\n",
       "    'thumbnail': 'https://randomuser.me/api/portraits/thumb/women/79.jpg'},\n",
       "   'nat': 'IE'}],\n",
       " 'info': {'seed': '91623bab522e4508',\n",
       "  'results': 1,\n",
       "  'page': 1,\n",
       "  'version': '1.4'}}"
      ]
     },
     "metadata": {},
     "output_type": "display_data"
    }
   ],
   "source": [
    "# Display the user data\n",
    "display(response.json())"
   ]
  },
  {
   "cell_type": "code",
   "execution_count": 4,
   "metadata": {},
   "outputs": [
    {
     "name": "stdout",
     "output_type": "stream",
     "text": [
      "Barb female\n"
     ]
    }
   ],
   "source": [
    "# extract user data\n",
    "user = response.json()\n",
    "name = user['results'][0]['name']['first']\n",
    "true_gender = user['results'][0]['gender']\n",
    "\n",
    "print(name, true_gender)"
   ]
  },
  {
   "cell_type": "code",
   "execution_count": 5,
   "metadata": {},
   "outputs": [],
   "source": [
    "# make input params to gendergesser API\n",
    "\n",
    "parameter = {'name': name}\n",
    "\n",
    "# URL\n",
    "url = 'https://api.genderize.io/'\n",
    "\n",
    "# Make a request\n",
    "response = requests.get(url, params=parameter)"
   ]
  },
  {
   "cell_type": "code",
   "execution_count": 6,
   "metadata": {},
   "outputs": [
    {
     "data": {
      "text/plain": [
       "{'count': 63846, 'gender': 'female', 'name': 'Barb', 'probability': 1.0}"
      ]
     },
     "metadata": {},
     "output_type": "display_data"
    }
   ],
   "source": [
    "# Display\n",
    "display(response.json())"
   ]
  },
  {
   "cell_type": "code",
   "execution_count": 7,
   "metadata": {},
   "outputs": [
    {
     "name": "stdout",
     "output_type": "stream",
     "text": [
      "gender guessed correctly\n"
     ]
    }
   ],
   "source": [
    "# check if the gender guess is correct\n",
    "if response.json()['gender'] == true_gender: \n",
    "    print('gender guessed correctly')\n",
    "else: \n",
    "    print('with a probability of: ' + str(response.json()['probability']) + ', the guess was wrong') "
   ]
  }
 ],
 "metadata": {
  "kernelspec": {
   "display_name": "Python 3.9.13 64-bit",
   "language": "python",
   "name": "python3"
  },
  "language_info": {
   "codemirror_mode": {
    "name": "ipython",
    "version": 3
   },
   "file_extension": ".py",
   "mimetype": "text/x-python",
   "name": "python",
   "nbconvert_exporter": "python",
   "pygments_lexer": "ipython3",
   "version": "3.9.13"
  },
  "orig_nbformat": 4,
  "vscode": {
   "interpreter": {
    "hash": "472effd7b766c8eaf58c1144fc5c09e871cb7518e28d99d84e13357b1371040e"
   }
  }
 },
 "nbformat": 4,
 "nbformat_minor": 2
}
