{
 "cells": [
  {
   "cell_type": "markdown",
   "id": "937c9992-4779-4fa6-9de0-86261171a000",
   "metadata": {},
   "source": [
    "## Save as Python script"
   ]
  },
  {
   "cell_type": "code",
   "execution_count": 1,
   "id": "457ed6ac-8f34-4edc-9444-986196d56699",
   "metadata": {},
   "outputs": [],
   "source": [
    "# in terminal you can run \n",
    "# jupyter nbconvert --to script your_notebook_name.ipynb"
   ]
  },
  {
   "cell_type": "markdown",
   "id": "f764d5a2-3a91-443e-97f5-ba56bcc1ed5b",
   "metadata": {},
   "source": [
    "## Exercise 1"
   ]
  },
  {
   "cell_type": "code",
   "execution_count": 2,
   "id": "5278faab-c182-4a73-9e4b-334c4960350f",
   "metadata": {},
   "outputs": [],
   "source": [
    "# made in commando line"
   ]
  },
  {
   "cell_type": "markdown",
   "id": "1bfb2adb-b870-467f-8378-6675fe50d2ec",
   "metadata": {},
   "source": [
    "## Parsing command line arguments with argparse"
   ]
  },
  {
   "cell_type": "code",
   "execution_count": null,
   "id": "d156fcfd-10a3-48db-bfe5-14a168005793",
   "metadata": {},
   "outputs": [],
   "source": []
  }
 ],
 "metadata": {
  "kernelspec": {
   "display_name": "Python 3 (ipykernel)",
   "language": "python",
   "name": "python3"
  },
  "language_info": {
   "codemirror_mode": {
    "name": "ipython",
    "version": 3
   },
   "file_extension": ".py",
   "mimetype": "text/x-python",
   "name": "python",
   "nbconvert_exporter": "python",
   "pygments_lexer": "ipython3",
   "version": "3.9.13"
  }
 },
 "nbformat": 4,
 "nbformat_minor": 5
}
