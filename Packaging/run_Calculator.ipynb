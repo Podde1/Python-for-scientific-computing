{
 "cells": [
  {
   "cell_type": "code",
   "execution_count": 1,
   "id": "5e9b0a0d-46b3-44a3-aaac-bf360cc041f2",
   "metadata": {},
   "outputs": [],
   "source": [
    "from calculator import add, subtract, integral"
   ]
  },
  {
   "cell_type": "code",
   "execution_count": 2,
   "id": "3232c507-5986-404b-a91b-6866dc4955ba",
   "metadata": {},
   "outputs": [
    {
     "name": "stdout",
     "output_type": "stream",
     "text": [
      "5\n",
      "-1\n",
      "(0.33333333333333337, 3.700743415417189e-15)\n"
     ]
    }
   ],
   "source": [
    "print(add(2, 3))\n",
    "print(subtract(2, 3))\n",
    "print(integral(lambda x: x * x, 0.0, 1.0))"
   ]
  }
 ],
 "metadata": {
  "kernelspec": {
   "display_name": "Python 3.9.13 ('venv': venv)",
   "language": "python",
   "name": "python3"
  },
  "language_info": {
   "codemirror_mode": {
    "name": "ipython",
    "version": 3
   },
   "file_extension": ".py",
   "mimetype": "text/x-python",
   "name": "python",
   "nbconvert_exporter": "python",
   "pygments_lexer": "ipython3",
   "version": "3.9.13"
  },
  "vscode": {
   "interpreter": {
    "hash": "3715fe3a9144c087db19751d5a5b6fbc8249bf5f331f529ae5af8b159970a122"
   }
  }
 },
 "nbformat": 4,
 "nbformat_minor": 5
}
