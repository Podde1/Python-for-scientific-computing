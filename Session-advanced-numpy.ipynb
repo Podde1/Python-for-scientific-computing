{
 "cells": [
  {
   "cell_type": "markdown",
   "id": "b0d2bdd1-0a81-4021-9708-d54aab253973",
   "metadata": {},
   "source": [
    "## Exercise 1"
   ]
  },
  {
   "cell_type": "code",
   "execution_count": 2,
   "id": "5a7388fb-7c6e-4b42-aecd-88ee8c6f8eb3",
   "metadata": {},
   "outputs": [],
   "source": [
    "import numpy as np"
   ]
  },
  {
   "cell_type": "code",
   "execution_count": 30,
   "id": "f0874acf-9d56-47c0-bafd-2b002ea332dd",
   "metadata": {},
   "outputs": [
    {
     "data": {
      "text/plain": [
       "3"
      ]
     },
     "execution_count": 30,
     "metadata": {},
     "output_type": "execute_result"
    }
   ],
   "source": [
    "np.sum([1, 2])"
   ]
  },
  {
   "cell_type": "code",
   "execution_count": 10,
   "id": "c4470636-67e0-4aab-948c-3eb92391ccf2",
   "metadata": {},
   "outputs": [
    {
     "name": "stdout",
     "output_type": "stream",
     "text": [
      "1.17 s ± 103 ms per loop (mean ± std. dev. of 7 runs, 1 loop each)\n"
     ]
    }
   ],
   "source": [
    "%%timeit\n",
    "np.sum(np.random.rand(100000000))"
   ]
  },
  {
   "cell_type": "code",
   "execution_count": 9,
   "id": "ac7e0f4e-569b-472e-9e46-ba4bd4efe928",
   "metadata": {},
   "outputs": [
    {
     "name": "stdout",
     "output_type": "stream",
     "text": [
      "1.17 s ± 45.3 ms per loop (mean ± std. dev. of 7 runs, 1 loop each)\n"
     ]
    }
   ],
   "source": [
    "%%timeit\n",
    "np.random.rand(100000000).sum()"
   ]
  },
  {
   "cell_type": "code",
   "execution_count": 12,
   "id": "31e9abd0-f680-4109-abb4-090c970dc5bb",
   "metadata": {},
   "outputs": [
    {
     "name": "stdout",
     "output_type": "stream",
     "text": [
      "1.27 s ± 134 ms per loop (mean ± std. dev. of 7 runs, 1 loop each)\n"
     ]
    }
   ],
   "source": [
    "%%timeit\n",
    "np.random.rand(100000000,1).sum()"
   ]
  },
  {
   "cell_type": "markdown",
   "id": "178b9314-47ab-45ed-9328-896b1a199ff1",
   "metadata": {},
   "source": [
    "## Ecercise 2"
   ]
  },
  {
   "cell_type": "code",
   "execution_count": 24,
   "id": "8c58dc14-40ea-42aa-ba1e-f101cb2b537d",
   "metadata": {},
   "outputs": [],
   "source": [
    "def ravel(row, col, n_rows, n_cols):\n",
    "    return row*n_cols + col"
   ]
  },
  {
   "cell_type": "code",
   "execution_count": 25,
   "id": "7d9ac67d-7223-4e1d-9cbd-aece08387c2a",
   "metadata": {},
   "outputs": [
    {
     "data": {
      "text/plain": [
       "11"
      ]
     },
     "execution_count": 25,
     "metadata": {},
     "output_type": "execute_result"
    }
   ],
   "source": [
    "ravel(2,3,4,4)"
   ]
  },
  {
   "cell_type": "code",
   "execution_count": 26,
   "id": "ecf65b47-b59f-453d-9cea-19691fc8a071",
   "metadata": {},
   "outputs": [
    {
     "data": {
      "text/plain": [
       "19"
      ]
     },
     "execution_count": 26,
     "metadata": {},
     "output_type": "execute_result"
    }
   ],
   "source": [
    "ravel(2, 3, n_rows=4, n_cols=8)"
   ]
  },
  {
   "cell_type": "code",
   "execution_count": 27,
   "id": "eff11a6a-3664-4ff8-8572-a60f22d20b97",
   "metadata": {},
   "outputs": [
    {
     "data": {
      "text/plain": [
       "0"
      ]
     },
     "execution_count": 27,
     "metadata": {},
     "output_type": "execute_result"
    }
   ],
   "source": [
    "ravel(0, 0, n_rows=1, n_cols=1)"
   ]
  },
  {
   "cell_type": "code",
   "execution_count": 28,
   "id": "7440bef7-2693-4502-99ae-342e521e0d22",
   "metadata": {},
   "outputs": [
    {
     "data": {
      "text/plain": [
       "15"
      ]
     },
     "execution_count": 28,
     "metadata": {},
     "output_type": "execute_result"
    }
   ],
   "source": [
    "ravel(3, 3, n_rows=4, n_cols=4)"
   ]
  },
  {
   "cell_type": "code",
   "execution_count": 29,
   "id": "f8b78f7f-f84b-4477-9383-699be889ebe5",
   "metadata": {},
   "outputs": [
    {
     "data": {
      "text/plain": [
       "69318923"
      ]
     },
     "execution_count": 29,
     "metadata": {},
     "output_type": "execute_result"
    }
   ],
   "source": [
    "ravel(3_465, 18_923, n_rows=10_000, n_cols=20_000)"
   ]
  },
  {
   "cell_type": "markdown",
   "id": "331cb6bb-be83-48d0-8305-72b7e8dc737e",
   "metadata": {},
   "source": [
    "## Exercise 3"
   ]
  },
  {
   "cell_type": "code",
   "execution_count": 33,
   "id": "972f4686-400e-4862-954b-659d91bd7878",
   "metadata": {},
   "outputs": [],
   "source": [
    "from numpy.lib.stride_tricks import as_strided\n",
    "def transpose(a):\n",
    "    return as_strided(a, shape=a.shape[::-1], strides=a.strides[::-1])"
   ]
  },
  {
   "cell_type": "code",
   "execution_count": 35,
   "id": "b9a13250-f296-4ac0-8625-6732560e8cef",
   "metadata": {},
   "outputs": [
    {
     "name": "stdout",
     "output_type": "stream",
     "text": [
      "Before transpose:\n",
      "[[1 2 3]\n",
      " [4 5 6]]\n",
      "After transpose:\n",
      "[[1 4]\n",
      " [2 5]\n",
      " [3 6]]\n"
     ]
    }
   ],
   "source": [
    "a = np.array([[1, 2, 3],\n",
    "              [4, 5, 6]])\n",
    "print('Before transpose:')\n",
    "print(a)\n",
    "print('After transpose:')\n",
    "print(transpose(a))"
   ]
  },
  {
   "cell_type": "code",
   "execution_count": 36,
   "id": "e8fade51-eb01-42ab-ac7d-4dc942c3ed6e",
   "metadata": {},
   "outputs": [
    {
     "data": {
      "text/plain": [
       "array([[1., 1., 1., ..., 1., 1., 1.],\n",
       "       [2., 2., 2., ..., 2., 2., 2.],\n",
       "       [3., 3., 3., ..., 3., 3., 3.],\n",
       "       [4., 4., 4., ..., 4., 4., 4.],\n",
       "       [5., 5., 5., ..., 5., 5., 5.]])"
      ]
     },
     "execution_count": 36,
     "metadata": {},
     "output_type": "execute_result"
    }
   ],
   "source": [
    "from numpy.lib.stride_tricks import as_strided\n",
    "a = np.array([1., 2., 3., 4., 5.])\n",
    "as_strided(a, shape=(5, 100_000_000_000), strides=(8, 0))"
   ]
  }
 ],
 "metadata": {
  "kernelspec": {
   "display_name": "Python 3.9.13 64-bit",
   "language": "python",
   "name": "python3"
  },
  "language_info": {
   "codemirror_mode": {
    "name": "ipython",
    "version": 3
   },
   "file_extension": ".py",
   "mimetype": "text/x-python",
   "name": "python",
   "nbconvert_exporter": "python",
   "pygments_lexer": "ipython3",
   "version": "3.9.13"
  },
  "vscode": {
   "interpreter": {
    "hash": "472effd7b766c8eaf58c1144fc5c09e871cb7518e28d99d84e13357b1371040e"
   }
  }
 },
 "nbformat": 4,
 "nbformat_minor": 5
}
